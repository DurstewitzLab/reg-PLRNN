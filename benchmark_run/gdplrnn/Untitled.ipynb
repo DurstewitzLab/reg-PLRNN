{
 "cells": [
  {
   "cell_type": "code",
   "execution_count": null,
   "metadata": {},
   "outputs": [],
   "source": [
    "import numpy as np\n",
    "import torch as th\n",
    "import torch.nn as nn\n",
    "from gdplrnn.model import DiagLinear\n",
    "\n",
    "class uRNN(nn.Module):\n",
    "    def __init__(self, input_size, hidden_size, output_size):\n",
    "        super(uRNN, self).__init__()\n",
    "        self.hidden_size = hidden_size\n",
    "        self.output_weights = nn.Linear(hidden_size, output_size)\n",
    "\n",
    "        self.step1 = DiagLinear(hidden_size, bias=False)\n",
    "\n",
    "        self.init_bias()"
   ]
  }
 ],
 "metadata": {
  "kernelspec": {
   "display_name": "Python 3",
   "language": "python",
   "name": "python3"
  },
  "language_info": {
   "codemirror_mode": {
    "name": "ipython",
    "version": 3
   },
   "file_extension": ".py",
   "mimetype": "text/x-python",
   "name": "python",
   "nbconvert_exporter": "python",
   "pygments_lexer": "ipython3",
   "version": "3.7.1"
  }
 },
 "nbformat": 4,
 "nbformat_minor": 2
}
